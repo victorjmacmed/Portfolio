{
 "cells": [
  {
   "cell_type": "markdown",
   "metadata": {},
   "source": [
    "Here you can find a first exploration of a dataset giving deaths in the US\n",
    "from 2005 to 2015, there is some commented code which includes data visualization \n",
    "of this data sets. You will also find some functions which are useful to load big\n",
    "data sets.\n",
    "\n",
    "This is a preliminary version, I was just playing with the data. If you want to see\n",
    "the 'final' (it is also preliminary in some complex sense: I don't have enough means\n",
    "to train a big neural network, but the idea is there) look at the classification file\n",
    "on this folder (GitHub). "
   ]
  },
  {
   "cell_type": "markdown",
   "metadata": {},
   "source": [
    "# 1 Background\n",
    "\n",
    "Every year, centers for disease control and prevention (CDC) provides detailed statistics of deaths and their underlying causes in the United States. The CDC mortality data is used by various industries like medical, health and insurance to provide better services. It provides the basis of numerous researches and is widely cited in public papers.\n",
    "Because of your outstanding knowledge, you are hired as a data scientist by a prestigeous insurance com- pany. The VP of your department wants to launch a life insurance product but would like to do an analysis on the cause of death in the US population first. The following questions needs to be answered:"
   ]
  },
  {
   "cell_type": "markdown",
   "metadata": {},
   "source": [
    "# About the datasets\n",
    "\n",
    "* Download the CDC mortality data between 2005 and 2015 from https://www.kaggle.com/cdc/ mortality the data files include \"2005_data.csv\", \"2006_data.csv\" ... \"2015_data.csv\". Each file contains 77 columns and the fields are selectively described as below:\n",
    "\n",
    "    * current_data_year: the year of the statistics\n",
    "    * detail_age: death age\n",
    "    * icd_code_10th_revision:ICD10code,amedicalclassificationlistbytheWorldHealthOrganiza-        tion (WHO). It contains codes for diseases, signs and symptoms, abnormal findings,          complaints, social circumstances, and external causes of injury or diseases. A              detailed descriptions of the code can be found in allvalid2011 (detailed titles            headings).xls\"\n",
    "\n",
    "* Medical transcripts of 5000 patients: \"medicaltranscriptions.csv\"."
   ]
  },
  {
   "cell_type": "code",
   "execution_count": 1,
   "metadata": {},
   "outputs": [
    {
     "name": "stderr",
     "output_type": "stream",
     "text": [
      "/usr/local/lib/python3.9/site-packages/IPython/core/interactiveshell.py:3146: DtypeWarning: Columns (39,40,41,42,43,44,45,46,47,59,60,61,62,63,64,65,66) have mixed types.Specify dtype option on import or set low_memory=False.\n",
      "  has_raised = await self.run_ast_nodes(code_ast.body, cell_name,\n"
     ]
    }
   ],
   "source": [
    "# Libraries\n",
    "\n",
    "import pandas as pd\n",
    "import numpy as np\n",
    "\n",
    "df1 = pd.read_csv('archive/' + '2005' + \"_data.csv\")\n",
    "\n",
    "\n"
   ]
  },
  {
   "cell_type": "code",
   "execution_count": 2,
   "metadata": {
    "scrolled": false
   },
   "outputs": [
    {
     "data": {
      "text/plain": [
       "Index(['resident_status', 'education_1989_revision', 'education_2003_revision',\n",
       "       'education_reporting_flag', 'month_of_death', 'sex', 'detail_age_type',\n",
       "       'detail_age', 'age_substitution_flag', 'age_recode_52', 'age_recode_27',\n",
       "       'age_recode_12', 'infant_age_recode_22',\n",
       "       'place_of_death_and_decedents_status', 'marital_status',\n",
       "       'day_of_week_of_death', 'current_data_year', 'injury_at_work',\n",
       "       'manner_of_death', 'method_of_disposition', 'autopsy', 'activity_code',\n",
       "       'place_of_injury_for_causes_w00_y34_except_y06_and_y07_',\n",
       "       'icd_code_10th_revision', '358_cause_recode', '113_cause_recode',\n",
       "       '130_infant_cause_recode', '39_cause_recode',\n",
       "       'number_of_entity_axis_conditions', 'entity_condition_1',\n",
       "       'entity_condition_2', 'entity_condition_3', 'entity_condition_4',\n",
       "       'entity_condition_5', 'entity_condition_6', 'entity_condition_7',\n",
       "       'entity_condition_8', 'entity_condition_9', 'entity_condition_10',\n",
       "       'entity_condition_11', 'entity_condition_12', 'entity_condition_13',\n",
       "       'entity_condition_14', 'entity_condition_15', 'entity_condition_16',\n",
       "       'entity_condition_17', 'entity_condition_18', 'entity_condition_19',\n",
       "       'entity_condition_20', 'number_of_record_axis_conditions',\n",
       "       'record_condition_1', 'record_condition_2', 'record_condition_3',\n",
       "       'record_condition_4', 'record_condition_5', 'record_condition_6',\n",
       "       'record_condition_7', 'record_condition_8', 'record_condition_9',\n",
       "       'record_condition_10', 'record_condition_11', 'record_condition_12',\n",
       "       'record_condition_13', 'record_condition_14', 'record_condition_15',\n",
       "       'record_condition_16', 'record_condition_17', 'record_condition_18',\n",
       "       'record_condition_19', 'record_condition_20', 'race',\n",
       "       'bridged_race_flag', 'race_imputation_flag', 'race_recode_3',\n",
       "       'race_recode_5', 'hispanic_origin', 'hispanic_originrace_recode'],\n",
       "      dtype='object')"
      ]
     },
     "execution_count": 2,
     "metadata": {},
     "output_type": "execute_result"
    }
   ],
   "source": [
    "df1.columns"
   ]
  },
  {
   "cell_type": "code",
   "execution_count": 3,
   "metadata": {},
   "outputs": [
    {
     "data": {
      "text/plain": [
       "['2005',\n",
       " '2006',\n",
       " '2007',\n",
       " '2008',\n",
       " '2009',\n",
       " '2010',\n",
       " '2011',\n",
       " '2012',\n",
       " '2013',\n",
       " '2014',\n",
       " '2015']"
      ]
     },
     "execution_count": 3,
     "metadata": {},
     "output_type": "execute_result"
    }
   ],
   "source": [
    "# years on a list \n",
    "\n",
    "csv_file_list = 11*[0]\n",
    "\n",
    "j = 0\n",
    "for i in range(5,16):\n",
    "    if i < 10: \n",
    "       csv_file_list[j] = '200'+str(i)\n",
    "    else:\n",
    "       csv_file_list[j] = '20'+str(i)\n",
    "    j += 1\n",
    "\n",
    "csv_file_list\n",
    " \n"
   ]
  },
  {
   "cell_type": "code",
   "execution_count": 4,
   "metadata": {},
   "outputs": [],
   "source": [
    "# Charging several datasets from names in an array.\n",
    "# In this case we cannot do that because the dataset size is 4gb\n",
    "# It is much better accessing each piece of data separately\n",
    "\n",
    "#def reader(f):\n",
    "#    d = pd.read_csv(f, index_col=0, header=None, low_memory =False)\n",
    "#    d.columns = range(d.shape[1])\n",
    "#    return d\n",
    "#\n",
    "#df = pd.concat([reader(\"archive/\"+f) for f in csv_file_list], keys=files)\n",
    "\n",
    "\n",
    "\n"
   ]
  },
  {
   "cell_type": "markdown",
   "metadata": {},
   "source": [
    "To improve our access to these data sets we should break these data sets into variables.\n",
    "We should create a dataframe containing particular variables along the time.\n",
    "\n"
   ]
  },
  {
   "cell_type": "markdown",
   "metadata": {},
   "source": [
    "# 2 Problems\n",
    "\n",
    "## 2.1 Cause of Death in the U.S.\n",
    "\n",
    "* What are the major causes of death in the US (show your evidence)?\n",
    "\n",
    "* Are the major causes of death changing over time? Are there any significant increasing or decreasing trends? Can you explain the trends (using references, other sources of data etc.)? How can you address the significance of the trends using statistical modeling method?\n",
    "\n",
    "* For different ages what are the main causes of death? What are the main causes of death among young people? What are the main cause of death among old people (can you design a way to visualize your findings)?\n",
    "\n",
    "* Pick a few causes of death and estimate the probability of death due to those causes (For example: build a binary classification model to understand the impacts of age, gender, calendar year, education ... For example, estimate the death caused by heart disease v.s. other diseases).\n",
    "\n",
    "* Explore the data creatively and see if you can get any insights beyond your VP’s question list (OP- TIONAL)."
   ]
  },
  {
   "cell_type": "markdown",
   "metadata": {},
   "source": [
    "## 2.1.1 What are the major causes of death in the US (show your evidence)?\n",
    "\n"
   ]
  },
  {
   "cell_type": "code",
   "execution_count": 5,
   "metadata": {},
   "outputs": [],
   "source": [
    "\n",
    "#col_list = ['manner_of_death']\n",
    "#df = pd.read_csv(\"archive/2005_data.csv\", usecols=col_list)\n",
    "#df"
   ]
  },
  {
   "cell_type": "code",
   "execution_count": 6,
   "metadata": {},
   "outputs": [],
   "source": [
    "# Creating dataframe with causes of death from 2005 to 2015\n",
    "\n",
    "# load each data set and extract the variable 'cause of death'\n",
    "\n",
    "# This cell uses a lot of resources\n",
    "\n",
    "#csv_file_list # name of csv files\n",
    "#cd_time = pd.DataFrame()\n",
    "\n",
    "#for i in csv_file_list:\n",
    "#     df1 =  pd.read_csv('archive/' + i + \"_data.csv\", low_memory = False)\n",
    "#     cd_time[i] = df1.manner_of_death\n",
    "#     del(df1)\n",
    "        \n",
    "\n",
    "\n"
   ]
  },
  {
   "cell_type": "code",
   "execution_count": 7,
   "metadata": {},
   "outputs": [],
   "source": [
    "# Function extracting a variable from all the cvs - from 2005 to 2015 we extract the same variable\n",
    "\n",
    "#def extract(df,string,csv_file_list):\n",
    "#    df2 = pd.DataFrame()\n",
    "#    for i in csv_file_list:\n",
    "#        df1 = pd.read_csv('archive/' + i + \"_data.csv\", low_memory = False)\n",
    "#        df2[i] = df1[string]\n",
    "#        del(df1)\n",
    "#    return df2\n",
    "\n",
    "#col_list = ['manner_of_death','entity_condition_2']\n",
    "\n",
    "'''To do\n",
    "\n",
    "Thinking how to write a function changing names from similar columns.\n",
    "Other possibility is putting all together in one csv and changing the \n",
    "name of the columns.\n",
    "\n",
    "\n",
    "'''\n",
    "    \n",
    "    \n",
    "\n",
    "def extract(col_list,csv_file):\n",
    "    df2 = pd.DataFrame()\n",
    "    for i in csv_file:\n",
    "        df1 = pd.read_csv('archive/' + i + \"_data.csv\", usecols = col_list)\n",
    "        df2 = pd.concat([df2,df1], axis=1, sort=False)\n",
    "        print(i)\n",
    "        del(df1)\n",
    "    return df2\n",
    "\n",
    "\n",
    "\n",
    "# create a dictionary changing all the names"
   ]
  },
  {
   "cell_type": "code",
   "execution_count": 8,
   "metadata": {},
   "outputs": [],
   "source": [
    "#col_list = ['manner_of_death','entity_condition_2']\n",
    "#df = extract(col_list, ['2005','2006','2007'])\n",
    "\n"
   ]
  },
  {
   "cell_type": "code",
   "execution_count": 9,
   "metadata": {},
   "outputs": [],
   "source": [
    "#df"
   ]
  },
  {
   "cell_type": "code",
   "execution_count": 10,
   "metadata": {},
   "outputs": [],
   "source": [
    "#cd_time\n",
    "\n",
    "# Testing the function with the variable entity_condition_2\n",
    "\n",
    "#string = 'entity_condition_2'\n",
    "#entity_c2 = []\n",
    "#entity_c2 = extract([string],csv_file_list)\n",
    "\n"
   ]
  },
  {
   "cell_type": "code",
   "execution_count": 11,
   "metadata": {},
   "outputs": [],
   "source": [
    "# Extracting several variables\n",
    "\n",
    "# arguments: variables -> list of strings with the names of the variables to extract\n",
    "\n",
    "\n",
    "\n",
    "#def(df,variables):\n",
    "#    df2 = []\n",
    "#    for i in variables:\n",
    "#        df2 = extract(df,i,cvs_file_list)\n"
   ]
  },
  {
   "cell_type": "code",
   "execution_count": 12,
   "metadata": {},
   "outputs": [],
   "source": [
    "#entity_c2"
   ]
  },
  {
   "cell_type": "code",
   "execution_count": 13,
   "metadata": {},
   "outputs": [],
   "source": [
    "# We should take the variable 'cause of death' and then apply the unique code to\n",
    "# find the people who died from certain disease. Then we have to study subsets to find \n",
    "# more variables affecting the result. For instance, age, sex, location, income, etc.\n",
    "\n"
   ]
  },
  {
   "cell_type": "code",
   "execution_count": 14,
   "metadata": {},
   "outputs": [],
   "source": [
    "# Plot\n",
    "\n",
    "# fig, axes = plt.subplots(2, 5, figsize=(10,5), dpi=200, sharex=True, sharey=True)\n",
    "#colors = ['tab:red', 'tab:blue', 'tab:green', 'tab:pink', 'tab:olive', 'tab:violet', 'tab:slategray', 'tab:deepskyblue','tab:yellow', 'tab:saddlebrown']\n",
    "\n",
    "#import matplotlib.pyplot as plt\n",
    "\n",
    "#x = binblock = np.arange(1,9,1)\n",
    "#cd_time.hist(figsize = (10,10), bins = x, rwidth = 10)\n",
    "#plt.hist(cd_time[i], bins = x, rwidth = 10)\n",
    "#plt.title('histogram ' + str(i))\n",
    "\n",
    "\n",
    "#plt.suptitle('Histograms of the variable \"manners of death\" from 2005 to 2015', y=0.99, size=16)\n",
    "#ax.set_xlim(50, 70); ax.set_ylim(0, 1);\n",
    "#plt.tight_layout();\n",
    "\n"
   ]
  },
  {
   "cell_type": "markdown",
   "metadata": {},
   "source": [
    "We see in this histogram that the most generalized manner of death in the US are\n",
    "natural death, accident, suicide and homocide, in this order. The legend is\n",
    "\n",
    "1. \"Accident\"\n",
    "2. \"Suicide\"\n",
    "3. \"Homicide\"\n",
    "4. \"Pending investigation\"\n",
    "5. \"Could not determine\"\n",
    "6. \"Self-Inflicted\"\n",
    "7. \"Natural\"\n",
    "\n",
    "Inside these causes of death we can try to find particular causes. Let's try using \n",
    "the variables 'cause_recode', 'age', etc. "
   ]
  },
  {
   "cell_type": "code",
   "execution_count": 15,
   "metadata": {},
   "outputs": [],
   "source": [
    "# Inside natural death - we choose some other variables \n",
    "\n",
    "\n",
    "\n"
   ]
  },
  {
   "cell_type": "code",
   "execution_count": 16,
   "metadata": {},
   "outputs": [],
   "source": [
    "# Inside natural death - we study cause recode \n",
    "\n"
   ]
  },
  {
   "cell_type": "code",
   "execution_count": 17,
   "metadata": {},
   "outputs": [],
   "source": [
    "# Inside natural death and age - we study cause recode \n",
    "\n"
   ]
  },
  {
   "cell_type": "markdown",
   "metadata": {},
   "source": [
    "### 2.12 Are the major causes of death changing over time? Are there any significant increasing or decreasing trends? Can you explain the trends (using references, other sources of data etc.)? How can you address the significance of the trends using statistical modeling method?"
   ]
  },
  {
   "cell_type": "code",
   "execution_count": 18,
   "metadata": {
    "scrolled": true
   },
   "outputs": [],
   "source": [
    "# Plot of different years 'manners of death'\n",
    "\n",
    "#labels = (\"Accident\", \"Suicide\", \"Homicide\", \"Pending investigation\", \"Could not determine\", \"Self-Inflicted\", \"Natural\")\n",
    "\n",
    "#x = binblock = np.arange(1,9,1)\n",
    "#plt.figure(figsize=(20,10))\n",
    "#plt.title('Histogram \"manner of death\" from 2005 to 2015 increasing years')\n",
    "#plt.xlabel(\"Cause of death\", fontsize=16)  \n",
    "#plt.ylabel(\"Number of deaths\", fontsize=16)\n",
    "#plt.legend(labels)\n",
    "#plt.hist([cd_time['2005'],cd_time['2006'],cd_time['2007'],cd_time['2008'],cd_time['2009'],cd_time['2010'],cd_time['2011'],cd_time['2012'],cd_time['2013'],cd_time['2014'],cd_time['2015']], bins = x)\n",
    "#plt.show()"
   ]
  },
  {
   "cell_type": "code",
   "execution_count": 19,
   "metadata": {},
   "outputs": [],
   "source": [
    "#population = pd.read_csv(\"archive/US_population.csv\")\n",
    "#population"
   ]
  },
  {
   "cell_type": "code",
   "execution_count": 20,
   "metadata": {},
   "outputs": [],
   "source": [
    "#import matplotlib.pyplot as plt\n",
    "\n",
    "#fig, (ax1, ax2, ax3, ax4) = plt.subplots(1,4)\n",
    "#fig.set_figheight(10)\n",
    "#fig.set_figwidth(50)\n",
    "#ax1.set_title('Accident', fontsize = 30)\n",
    "#ax1.plot(cd_time[cd_time == 1].count())\n",
    "#ax2.set_title('Suicide', fontsize = 30)\n",
    "#ax2.plot(cd_time[cd_time == 2].count())\n",
    "#ax3.set_title('Natural death', fontsize = 30)\n",
    "#ax3.plot(cd_time[cd_time == 7].count())\n",
    "#ax4.set_title('US population', fontsize = 30)\n",
    "#ax4.plot(population.columns.values,population.values[0])\n",
    "#plt.figtext(0.515, 1, 'Cause of death in the U.S.', ha='center', va='center', fontsize = 30)\n"
   ]
  },
  {
   "cell_type": "code",
   "execution_count": 21,
   "metadata": {},
   "outputs": [],
   "source": [
    "# We can study population natural death increase relative to US population increase\n",
    "\n",
    "#natural_death = cd_time[cd_time == 7].count()\n",
    "\n",
    "#Dnd = 10*[0]\n",
    "#Dp  = 10*[0]\n",
    "#re  = 10*[0]\n",
    "#re2 = 10*[0]\n",
    "\n",
    "#for i in range(10):\n",
    "#    Dnd[i] = natural_death[i+1]-natural_death[i]\n",
    "#    Dp[i] = population.values[0][i+1]-population.values[0][i]\n",
    "#    re[i] = Dnd[i]/Dp[i]\n",
    "    \n",
    "#re2 = natural_death/population.values[0]\n",
    "#plt.title(\"Natural death relative to population size\") \n",
    "#plt.plot(re)\n",
    "#plt.show()\n",
    "#natural_death = cd_time[cd_time == 7].count()\n",
    "#relativenatpop = cd_time[cd_time == 7].count()/population\n",
    "#plt.plot(relativenatpop.columns.values,relativenatpop.values[0])"
   ]
  },
  {
   "cell_type": "code",
   "execution_count": 22,
   "metadata": {},
   "outputs": [
    {
     "name": "stderr",
     "output_type": "stream",
     "text": [
      "/usr/local/lib/python3.9/site-packages/IPython/core/interactiveshell.py:3146: DtypeWarning: Columns (40,41,42,43,44,45,46,47,60,61,62,63,64,65,66,67,68) have mixed types.Specify dtype option on import or set low_memory=False.\n",
      "  has_raised = await self.run_ast_nodes(code_ast.body, cell_name,\n"
     ]
    }
   ],
   "source": [
    "# Going inside natural death\n",
    "\n",
    "df1 = pd.read_csv('archive/' + '2012' + \"_data.csv\")\n",
    "\n"
   ]
  },
  {
   "cell_type": "code",
   "execution_count": 23,
   "metadata": {},
   "outputs": [
    {
     "data": {
      "text/plain": [
       "'Some general ideas:\\n\\n\\n1. Extract all the years for each variable, variable per variable - including all these in a dataframe\\n2. Prepare the data set to train the model - sex is categorical, race is categorical, month of death? - Education\\n3. Consider question: change over time, change along age\\n4. Use one disease against the other \\n5. Explore our data set creatively\\n\\n'"
      ]
     },
     "execution_count": 23,
     "metadata": {},
     "output_type": "execute_result"
    }
   ],
   "source": [
    "# Model 1 -> classification -> Age, Education, Sex, Race, Month of death\n",
    "# Model 2 -> Regression -> age, education, sex, race, month of death, year of death \n",
    "\n",
    "'''Some general ideas:\n",
    "\n",
    "\n",
    "1. Extract all the years for each variable, variable per variable - including all these in a dataframe\n",
    "2. Prepare the data set to train the model - sex is categorical, race is categorical, month of death? - Education\n",
    "3. Consider question: change over time, change along age\n",
    "4. Use one disease against the other \n",
    "5. Explore our data set creatively\n",
    "\n",
    "'''\n",
    "\n",
    "#df_model \n",
    "\n",
    "\n"
   ]
  },
  {
   "cell_type": "code",
   "execution_count": 24,
   "metadata": {
    "scrolled": true
   },
   "outputs": [
    {
     "data": {
      "text/plain": [
       "Index(['resident_status', 'education_1989_revision', 'education_2003_revision',\n",
       "       'education_reporting_flag', 'month_of_death', 'sex', 'detail_age_type',\n",
       "       'detail_age', 'age_substitution_flag', 'age_recode_52', 'age_recode_27',\n",
       "       'age_recode_12', 'infant_age_recode_22',\n",
       "       'place_of_death_and_decedents_status', 'marital_status',\n",
       "       'day_of_week_of_death', 'current_data_year', 'injury_at_work',\n",
       "       'manner_of_death', 'method_of_disposition', 'autopsy', 'activity_code',\n",
       "       'place_of_injury_for_causes_w00_y34_except_y06_and_y07_', 'icd_code_10',\n",
       "       '358_cause_recode', '113_cause_recode', '130_infant_cause_recode',\n",
       "       '39_cause_recode', 'number_of_entity_axis_conditions',\n",
       "       'entity_condition_1', 'entity_condition_2', 'entity_condition_3',\n",
       "       'entity_condition_4', 'entity_condition_5', 'entity_condition_6',\n",
       "       'entity_condition_7', 'entity_condition_8', 'entity_condition_9',\n",
       "       'entity_condition_10', 'entity_condition_11', 'entity_condition_12',\n",
       "       'entity_condition_13', 'entity_condition_14', 'entity_condition_15',\n",
       "       'entity_condition_16', 'entity_condition_17', 'entity_condition_18',\n",
       "       'entity_condition_19', 'entity_condition_20',\n",
       "       'number_of_record_axis_conditions', 'record_condition_1',\n",
       "       'record_condition_2', 'record_condition_3', 'record_condition_4',\n",
       "       'record_condition_5', 'record_condition_6', 'record_condition_7',\n",
       "       'record_condition_8', 'record_condition_9', 'record_condition_10',\n",
       "       'record_condition_11', 'record_condition_12', 'record_condition_13',\n",
       "       'record_condition_14', 'record_condition_15', 'record_condition_16',\n",
       "       'record_condition_17', 'record_condition_18', 'record_condition_19',\n",
       "       'record_condition_20', 'race', 'bridged_race_flag',\n",
       "       'race_imputation_flag', 'race_recode_3', 'race_recode_5',\n",
       "       'hispanic_origin', 'hispanic_originrace_recode'],\n",
       "      dtype='object')"
      ]
     },
     "execution_count": 24,
     "metadata": {},
     "output_type": "execute_result"
    }
   ],
   "source": [
    "df1.columns\n"
   ]
  },
  {
   "cell_type": "code",
   "execution_count": 25,
   "metadata": {},
   "outputs": [],
   "source": [
    "csv_file_list = ['2005',\n",
    " '2006',\n",
    " '2007',\n",
    " '2008',\n",
    " '2009',\n",
    " '2010',\n",
    " '2011',\n",
    " '2013',\n",
    " '2014',\n",
    " '2015']\n",
    "\n",
    "# 2012 name is 'icd_code_10' and not 'icd_code_10th_revision' we have to be careful \n",
    "# when extracting this data set.\n",
    "\n",
    "# we can also modify the column on the dataset which is easier. \n",
    "# I don't know if you will read the code for that reason I will\n",
    "# work with the original dataset\n",
    "\n",
    "\n",
    "\n"
   ]
  },
  {
   "cell_type": "code",
   "execution_count": 38,
   "metadata": {},
   "outputs": [
    {
     "name": "stdout",
     "output_type": "stream",
     "text": [
      "2005\n"
     ]
    }
   ],
   "source": [
    "# classification model \n",
    "\n",
    "# I25.1: Atherosclerotic heart disease --> target - you can use this code changing the target for the other cases.\n",
    "#C34.9: Malignant neoplasm of bronchus or lung, unspecified\n",
    "#G30.9: Alzheimer's disease, unspecified \n",
    "\n",
    "# We should extract data of people who died from these diseases. \n",
    "# Let's create a code estimating the probability for the I25.1.\n",
    "\n",
    "# First we need to extract data from 2005 to 2010, two variables \n",
    "# Model 1 -> classification -> Age, Education, Sex, Race, Month of death\n",
    "\n",
    "\n",
    "# Predictors: \n",
    "\n",
    "col_list = ['age_recode_52','education_2003_revision','sex','race','marital_status','manner_of_death','icd_code_10th_revision']\n",
    "df = extract(col_list, ['2005'])\n",
    "\n",
    "# I added a 'control sentence' which prints the year (this way we can control if some of the years have different\n",
    "# names for the columns)\n",
    "\n"
   ]
  },
  {
   "cell_type": "code",
   "execution_count": 39,
   "metadata": {
    "scrolled": false
   },
   "outputs": [
    {
     "name": "stdout",
     "output_type": "stream",
     "text": [
      "2006\n",
      "2007\n",
      "2008\n",
      "2009\n",
      "2010\n",
      "2011\n",
      "2012\n",
      "2013\n",
      "2014\n",
      "2015\n"
     ]
    }
   ],
   "source": [
    "for i in ['2006','2007','2008','2009','2010','2011']:\n",
    "    df.append(extract(col_list, [i]))\n",
    "    \n",
    "df.append(extract(['age_recode_52','education_2003_revision','sex','race','marital_status','manner_of_death','icd_code_10'],['2012']).rename(columns={'icd_code_10':'icd_code_10th_revision'}))\n",
    "\n",
    "for i in ['2013','2014','2015']:\n",
    "    df.append(extract(col_list, [i]))\n",
    "\n"
   ]
  },
  {
   "cell_type": "code",
   "execution_count": 40,
   "metadata": {},
   "outputs": [],
   "source": [
    "df = df.fillna(0)"
   ]
  },
  {
   "cell_type": "code",
   "execution_count": 41,
   "metadata": {},
   "outputs": [],
   "source": [
    "# Categorical variables to dummy variables\n",
    "\n",
    "# categorical: sex, entity_condition_2, entity_condition_3, entity_condition_4\n",
    "\n",
    "categorical = ['sex','marital_status']\n",
    "\n",
    "def intodummy(df,categorical):\n",
    "    for name in categorical:  \n",
    "        dummy = pd.get_dummies(df[name])\n",
    "        df = pd.concat([df,dummy], axis=1)\n",
    "        df = df.drop(columns=[name])\n",
    "    return df\n"
   ]
  },
  {
   "cell_type": "code",
   "execution_count": 42,
   "metadata": {},
   "outputs": [
    {
     "data": {
      "text/html": [
       "<div>\n",
       "<style scoped>\n",
       "    .dataframe tbody tr th:only-of-type {\n",
       "        vertical-align: middle;\n",
       "    }\n",
       "\n",
       "    .dataframe tbody tr th {\n",
       "        vertical-align: top;\n",
       "    }\n",
       "\n",
       "    .dataframe thead th {\n",
       "        text-align: right;\n",
       "    }\n",
       "</style>\n",
       "<table border=\"1\" class=\"dataframe\">\n",
       "  <thead>\n",
       "    <tr style=\"text-align: right;\">\n",
       "      <th></th>\n",
       "      <th>education_2003_revision</th>\n",
       "      <th>age_recode_52</th>\n",
       "      <th>manner_of_death</th>\n",
       "      <th>icd_code_10th_revision</th>\n",
       "      <th>race</th>\n",
       "      <th>F</th>\n",
       "      <th>M</th>\n",
       "      <th>D</th>\n",
       "      <th>M</th>\n",
       "      <th>S</th>\n",
       "      <th>U</th>\n",
       "      <th>W</th>\n",
       "    </tr>\n",
       "  </thead>\n",
       "  <tbody>\n",
       "    <tr>\n",
       "      <th>0</th>\n",
       "      <td>0.0</td>\n",
       "      <td>35</td>\n",
       "      <td>7.0</td>\n",
       "      <td>C439</td>\n",
       "      <td>1</td>\n",
       "      <td>1</td>\n",
       "      <td>0</td>\n",
       "      <td>0</td>\n",
       "      <td>1</td>\n",
       "      <td>0</td>\n",
       "      <td>0</td>\n",
       "      <td>0</td>\n",
       "    </tr>\n",
       "    <tr>\n",
       "      <th>1</th>\n",
       "      <td>0.0</td>\n",
       "      <td>38</td>\n",
       "      <td>7.0</td>\n",
       "      <td>J439</td>\n",
       "      <td>1</td>\n",
       "      <td>0</td>\n",
       "      <td>1</td>\n",
       "      <td>1</td>\n",
       "      <td>0</td>\n",
       "      <td>0</td>\n",
       "      <td>0</td>\n",
       "      <td>0</td>\n",
       "    </tr>\n",
       "    <tr>\n",
       "      <th>2</th>\n",
       "      <td>0.0</td>\n",
       "      <td>41</td>\n",
       "      <td>7.0</td>\n",
       "      <td>I698</td>\n",
       "      <td>1</td>\n",
       "      <td>1</td>\n",
       "      <td>0</td>\n",
       "      <td>1</td>\n",
       "      <td>0</td>\n",
       "      <td>0</td>\n",
       "      <td>0</td>\n",
       "      <td>0</td>\n",
       "    </tr>\n",
       "    <tr>\n",
       "      <th>3</th>\n",
       "      <td>0.0</td>\n",
       "      <td>36</td>\n",
       "      <td>7.0</td>\n",
       "      <td>E119</td>\n",
       "      <td>1</td>\n",
       "      <td>0</td>\n",
       "      <td>1</td>\n",
       "      <td>0</td>\n",
       "      <td>0</td>\n",
       "      <td>1</td>\n",
       "      <td>0</td>\n",
       "      <td>0</td>\n",
       "    </tr>\n",
       "    <tr>\n",
       "      <th>4</th>\n",
       "      <td>0.0</td>\n",
       "      <td>39</td>\n",
       "      <td>7.0</td>\n",
       "      <td>C349</td>\n",
       "      <td>1</td>\n",
       "      <td>1</td>\n",
       "      <td>0</td>\n",
       "      <td>0</td>\n",
       "      <td>1</td>\n",
       "      <td>0</td>\n",
       "      <td>0</td>\n",
       "      <td>0</td>\n",
       "    </tr>\n",
       "    <tr>\n",
       "      <th>...</th>\n",
       "      <td>...</td>\n",
       "      <td>...</td>\n",
       "      <td>...</td>\n",
       "      <td>...</td>\n",
       "      <td>...</td>\n",
       "      <td>...</td>\n",
       "      <td>...</td>\n",
       "      <td>...</td>\n",
       "      <td>...</td>\n",
       "      <td>...</td>\n",
       "      <td>...</td>\n",
       "      <td>...</td>\n",
       "    </tr>\n",
       "    <tr>\n",
       "      <th>2452501</th>\n",
       "      <td>9.0</td>\n",
       "      <td>37</td>\n",
       "      <td>0.0</td>\n",
       "      <td>I219</td>\n",
       "      <td>1</td>\n",
       "      <td>0</td>\n",
       "      <td>1</td>\n",
       "      <td>0</td>\n",
       "      <td>0</td>\n",
       "      <td>0</td>\n",
       "      <td>1</td>\n",
       "      <td>0</td>\n",
       "    </tr>\n",
       "    <tr>\n",
       "      <th>2452502</th>\n",
       "      <td>1.0</td>\n",
       "      <td>4</td>\n",
       "      <td>0.0</td>\n",
       "      <td>P269</td>\n",
       "      <td>2</td>\n",
       "      <td>0</td>\n",
       "      <td>1</td>\n",
       "      <td>0</td>\n",
       "      <td>0</td>\n",
       "      <td>1</td>\n",
       "      <td>0</td>\n",
       "      <td>0</td>\n",
       "    </tr>\n",
       "    <tr>\n",
       "      <th>2452503</th>\n",
       "      <td>1.0</td>\n",
       "      <td>11</td>\n",
       "      <td>0.0</td>\n",
       "      <td>P369</td>\n",
       "      <td>2</td>\n",
       "      <td>1</td>\n",
       "      <td>0</td>\n",
       "      <td>0</td>\n",
       "      <td>0</td>\n",
       "      <td>1</td>\n",
       "      <td>0</td>\n",
       "      <td>0</td>\n",
       "    </tr>\n",
       "    <tr>\n",
       "      <th>2452504</th>\n",
       "      <td>1.0</td>\n",
       "      <td>1</td>\n",
       "      <td>0.0</td>\n",
       "      <td>P010</td>\n",
       "      <td>1</td>\n",
       "      <td>0</td>\n",
       "      <td>1</td>\n",
       "      <td>0</td>\n",
       "      <td>0</td>\n",
       "      <td>1</td>\n",
       "      <td>0</td>\n",
       "      <td>0</td>\n",
       "    </tr>\n",
       "    <tr>\n",
       "      <th>2452505</th>\n",
       "      <td>9.0</td>\n",
       "      <td>43</td>\n",
       "      <td>0.0</td>\n",
       "      <td>I251</td>\n",
       "      <td>1</td>\n",
       "      <td>1</td>\n",
       "      <td>0</td>\n",
       "      <td>0</td>\n",
       "      <td>0</td>\n",
       "      <td>0</td>\n",
       "      <td>1</td>\n",
       "      <td>0</td>\n",
       "    </tr>\n",
       "  </tbody>\n",
       "</table>\n",
       "<p>2452506 rows × 12 columns</p>\n",
       "</div>"
      ],
      "text/plain": [
       "         education_2003_revision  age_recode_52  manner_of_death  \\\n",
       "0                            0.0             35              7.0   \n",
       "1                            0.0             38              7.0   \n",
       "2                            0.0             41              7.0   \n",
       "3                            0.0             36              7.0   \n",
       "4                            0.0             39              7.0   \n",
       "...                          ...            ...              ...   \n",
       "2452501                      9.0             37              0.0   \n",
       "2452502                      1.0              4              0.0   \n",
       "2452503                      1.0             11              0.0   \n",
       "2452504                      1.0              1              0.0   \n",
       "2452505                      9.0             43              0.0   \n",
       "\n",
       "        icd_code_10th_revision  race  F  M  D  M  S  U  W  \n",
       "0                         C439     1  1  0  0  1  0  0  0  \n",
       "1                         J439     1  0  1  1  0  0  0  0  \n",
       "2                         I698     1  1  0  1  0  0  0  0  \n",
       "3                         E119     1  0  1  0  0  1  0  0  \n",
       "4                         C349     1  1  0  0  1  0  0  0  \n",
       "...                        ...   ... .. .. .. .. .. .. ..  \n",
       "2452501                   I219     1  0  1  0  0  0  1  0  \n",
       "2452502                   P269     2  0  1  0  0  1  0  0  \n",
       "2452503                   P369     2  1  0  0  0  1  0  0  \n",
       "2452504                   P010     1  0  1  0  0  1  0  0  \n",
       "2452505                   I251     1  1  0  0  0  0  1  0  \n",
       "\n",
       "[2452506 rows x 12 columns]"
      ]
     },
     "execution_count": 42,
     "metadata": {},
     "output_type": "execute_result"
    }
   ],
   "source": [
    "intodummy(df,categorical)"
   ]
  },
  {
   "cell_type": "code",
   "execution_count": 43,
   "metadata": {},
   "outputs": [],
   "source": [
    "df = intodummy(df,categorical)"
   ]
  },
  {
   "cell_type": "code",
   "execution_count": 31,
   "metadata": {},
   "outputs": [],
   "source": [
    "#intodummy(df,['entity_condition_2'])\n",
    "\n",
    "#pd.concat([df,pd.get_dummies(df['entity_condition_2'].astype(np.int8))], axis=1)\n"
   ]
  },
  {
   "cell_type": "code",
   "execution_count": null,
   "metadata": {},
   "outputs": [],
   "source": []
  },
  {
   "cell_type": "code",
   "execution_count": 44,
   "metadata": {
    "scrolled": true
   },
   "outputs": [
    {
     "data": {
      "text/html": [
       "<div>\n",
       "<style scoped>\n",
       "    .dataframe tbody tr th:only-of-type {\n",
       "        vertical-align: middle;\n",
       "    }\n",
       "\n",
       "    .dataframe tbody tr th {\n",
       "        vertical-align: top;\n",
       "    }\n",
       "\n",
       "    .dataframe thead th {\n",
       "        text-align: right;\n",
       "    }\n",
       "</style>\n",
       "<table border=\"1\" class=\"dataframe\">\n",
       "  <thead>\n",
       "    <tr style=\"text-align: right;\">\n",
       "      <th></th>\n",
       "      <th>education_2003_revision</th>\n",
       "      <th>age_recode_52</th>\n",
       "      <th>manner_of_death</th>\n",
       "      <th>icd_code_10th_revision</th>\n",
       "      <th>race</th>\n",
       "      <th>F</th>\n",
       "      <th>M</th>\n",
       "      <th>D</th>\n",
       "      <th>M</th>\n",
       "      <th>S</th>\n",
       "      <th>U</th>\n",
       "      <th>W</th>\n",
       "    </tr>\n",
       "  </thead>\n",
       "  <tbody>\n",
       "    <tr>\n",
       "      <th>0</th>\n",
       "      <td>0.0</td>\n",
       "      <td>35</td>\n",
       "      <td>7.0</td>\n",
       "      <td>C439</td>\n",
       "      <td>1</td>\n",
       "      <td>1</td>\n",
       "      <td>0</td>\n",
       "      <td>0</td>\n",
       "      <td>1</td>\n",
       "      <td>0</td>\n",
       "      <td>0</td>\n",
       "      <td>0</td>\n",
       "    </tr>\n",
       "    <tr>\n",
       "      <th>1</th>\n",
       "      <td>0.0</td>\n",
       "      <td>38</td>\n",
       "      <td>7.0</td>\n",
       "      <td>J439</td>\n",
       "      <td>1</td>\n",
       "      <td>0</td>\n",
       "      <td>1</td>\n",
       "      <td>1</td>\n",
       "      <td>0</td>\n",
       "      <td>0</td>\n",
       "      <td>0</td>\n",
       "      <td>0</td>\n",
       "    </tr>\n",
       "    <tr>\n",
       "      <th>2</th>\n",
       "      <td>0.0</td>\n",
       "      <td>41</td>\n",
       "      <td>7.0</td>\n",
       "      <td>I698</td>\n",
       "      <td>1</td>\n",
       "      <td>1</td>\n",
       "      <td>0</td>\n",
       "      <td>1</td>\n",
       "      <td>0</td>\n",
       "      <td>0</td>\n",
       "      <td>0</td>\n",
       "      <td>0</td>\n",
       "    </tr>\n",
       "    <tr>\n",
       "      <th>3</th>\n",
       "      <td>0.0</td>\n",
       "      <td>36</td>\n",
       "      <td>7.0</td>\n",
       "      <td>E119</td>\n",
       "      <td>1</td>\n",
       "      <td>0</td>\n",
       "      <td>1</td>\n",
       "      <td>0</td>\n",
       "      <td>0</td>\n",
       "      <td>1</td>\n",
       "      <td>0</td>\n",
       "      <td>0</td>\n",
       "    </tr>\n",
       "    <tr>\n",
       "      <th>4</th>\n",
       "      <td>0.0</td>\n",
       "      <td>39</td>\n",
       "      <td>7.0</td>\n",
       "      <td>C349</td>\n",
       "      <td>1</td>\n",
       "      <td>1</td>\n",
       "      <td>0</td>\n",
       "      <td>0</td>\n",
       "      <td>1</td>\n",
       "      <td>0</td>\n",
       "      <td>0</td>\n",
       "      <td>0</td>\n",
       "    </tr>\n",
       "    <tr>\n",
       "      <th>...</th>\n",
       "      <td>...</td>\n",
       "      <td>...</td>\n",
       "      <td>...</td>\n",
       "      <td>...</td>\n",
       "      <td>...</td>\n",
       "      <td>...</td>\n",
       "      <td>...</td>\n",
       "      <td>...</td>\n",
       "      <td>...</td>\n",
       "      <td>...</td>\n",
       "      <td>...</td>\n",
       "      <td>...</td>\n",
       "    </tr>\n",
       "    <tr>\n",
       "      <th>2452501</th>\n",
       "      <td>9.0</td>\n",
       "      <td>37</td>\n",
       "      <td>0.0</td>\n",
       "      <td>I219</td>\n",
       "      <td>1</td>\n",
       "      <td>0</td>\n",
       "      <td>1</td>\n",
       "      <td>0</td>\n",
       "      <td>0</td>\n",
       "      <td>0</td>\n",
       "      <td>1</td>\n",
       "      <td>0</td>\n",
       "    </tr>\n",
       "    <tr>\n",
       "      <th>2452502</th>\n",
       "      <td>1.0</td>\n",
       "      <td>4</td>\n",
       "      <td>0.0</td>\n",
       "      <td>P269</td>\n",
       "      <td>2</td>\n",
       "      <td>0</td>\n",
       "      <td>1</td>\n",
       "      <td>0</td>\n",
       "      <td>0</td>\n",
       "      <td>1</td>\n",
       "      <td>0</td>\n",
       "      <td>0</td>\n",
       "    </tr>\n",
       "    <tr>\n",
       "      <th>2452503</th>\n",
       "      <td>1.0</td>\n",
       "      <td>11</td>\n",
       "      <td>0.0</td>\n",
       "      <td>P369</td>\n",
       "      <td>2</td>\n",
       "      <td>1</td>\n",
       "      <td>0</td>\n",
       "      <td>0</td>\n",
       "      <td>0</td>\n",
       "      <td>1</td>\n",
       "      <td>0</td>\n",
       "      <td>0</td>\n",
       "    </tr>\n",
       "    <tr>\n",
       "      <th>2452504</th>\n",
       "      <td>1.0</td>\n",
       "      <td>1</td>\n",
       "      <td>0.0</td>\n",
       "      <td>P010</td>\n",
       "      <td>1</td>\n",
       "      <td>0</td>\n",
       "      <td>1</td>\n",
       "      <td>0</td>\n",
       "      <td>0</td>\n",
       "      <td>1</td>\n",
       "      <td>0</td>\n",
       "      <td>0</td>\n",
       "    </tr>\n",
       "    <tr>\n",
       "      <th>2452505</th>\n",
       "      <td>9.0</td>\n",
       "      <td>43</td>\n",
       "      <td>0.0</td>\n",
       "      <td>I251</td>\n",
       "      <td>1</td>\n",
       "      <td>1</td>\n",
       "      <td>0</td>\n",
       "      <td>0</td>\n",
       "      <td>0</td>\n",
       "      <td>0</td>\n",
       "      <td>1</td>\n",
       "      <td>0</td>\n",
       "    </tr>\n",
       "  </tbody>\n",
       "</table>\n",
       "<p>2452506 rows × 12 columns</p>\n",
       "</div>"
      ],
      "text/plain": [
       "         education_2003_revision  age_recode_52  manner_of_death  \\\n",
       "0                            0.0             35              7.0   \n",
       "1                            0.0             38              7.0   \n",
       "2                            0.0             41              7.0   \n",
       "3                            0.0             36              7.0   \n",
       "4                            0.0             39              7.0   \n",
       "...                          ...            ...              ...   \n",
       "2452501                      9.0             37              0.0   \n",
       "2452502                      1.0              4              0.0   \n",
       "2452503                      1.0             11              0.0   \n",
       "2452504                      1.0              1              0.0   \n",
       "2452505                      9.0             43              0.0   \n",
       "\n",
       "        icd_code_10th_revision  race  F  M  D  M  S  U  W  \n",
       "0                         C439     1  1  0  0  1  0  0  0  \n",
       "1                         J439     1  0  1  1  0  0  0  0  \n",
       "2                         I698     1  1  0  1  0  0  0  0  \n",
       "3                         E119     1  0  1  0  0  1  0  0  \n",
       "4                         C349     1  1  0  0  1  0  0  0  \n",
       "...                        ...   ... .. .. .. .. .. .. ..  \n",
       "2452501                   I219     1  0  1  0  0  0  1  0  \n",
       "2452502                   P269     2  0  1  0  0  1  0  0  \n",
       "2452503                   P369     2  1  0  0  0  1  0  0  \n",
       "2452504                   P010     1  0  1  0  0  1  0  0  \n",
       "2452505                   I251     1  1  0  0  0  0  1  0  \n",
       "\n",
       "[2452506 rows x 12 columns]"
      ]
     },
     "execution_count": 44,
     "metadata": {},
     "output_type": "execute_result"
    }
   ],
   "source": [
    "# We extract the data for our target - in this case \n",
    "\n",
    "data = df\n",
    "data\n",
    "\n"
   ]
  },
  {
   "cell_type": "code",
   "execution_count": 51,
   "metadata": {},
   "outputs": [
    {
     "data": {
      "text/plain": [
       "0          False\n",
       "1          False\n",
       "2          False\n",
       "3          False\n",
       "4           True\n",
       "           ...  \n",
       "2452501    False\n",
       "2452502    False\n",
       "2452503    False\n",
       "2452504    False\n",
       "2452505     True\n",
       "Name: icd_code_10th_revision, Length: 2452506, dtype: bool"
      ]
     },
     "execution_count": 51,
     "metadata": {},
     "output_type": "execute_result"
    }
   ],
   "source": [
    "(data['icd_code_10th_revision'] == 'I251') | (data['icd_code_10th_revision'] == 'C349')"
   ]
  },
  {
   "cell_type": "code",
   "execution_count": 53,
   "metadata": {},
   "outputs": [],
   "source": [
    "data = data[ (data['icd_code_10th_revision'] == 'I251') | (data['icd_code_10th_revision'] == 'C349' ) | (data['icd_code_10th_revision'] == 'G309' )]        ]\n"
   ]
  },
  {
   "cell_type": "code",
   "execution_count": 54,
   "metadata": {},
   "outputs": [
    {
     "data": {
      "text/html": [
       "<div>\n",
       "<style scoped>\n",
       "    .dataframe tbody tr th:only-of-type {\n",
       "        vertical-align: middle;\n",
       "    }\n",
       "\n",
       "    .dataframe tbody tr th {\n",
       "        vertical-align: top;\n",
       "    }\n",
       "\n",
       "    .dataframe thead th {\n",
       "        text-align: right;\n",
       "    }\n",
       "</style>\n",
       "<table border=\"1\" class=\"dataframe\">\n",
       "  <thead>\n",
       "    <tr style=\"text-align: right;\">\n",
       "      <th></th>\n",
       "      <th>education_2003_revision</th>\n",
       "      <th>age_recode_52</th>\n",
       "      <th>manner_of_death</th>\n",
       "      <th>icd_code_10th_revision</th>\n",
       "      <th>race</th>\n",
       "      <th>F</th>\n",
       "      <th>M</th>\n",
       "      <th>D</th>\n",
       "      <th>M</th>\n",
       "      <th>S</th>\n",
       "      <th>U</th>\n",
       "      <th>W</th>\n",
       "    </tr>\n",
       "  </thead>\n",
       "  <tbody>\n",
       "    <tr>\n",
       "      <th>4</th>\n",
       "      <td>0.0</td>\n",
       "      <td>39</td>\n",
       "      <td>7.0</td>\n",
       "      <td>C349</td>\n",
       "      <td>1</td>\n",
       "      <td>1</td>\n",
       "      <td>0</td>\n",
       "      <td>0</td>\n",
       "      <td>1</td>\n",
       "      <td>0</td>\n",
       "      <td>0</td>\n",
       "      <td>0</td>\n",
       "    </tr>\n",
       "    <tr>\n",
       "      <th>15</th>\n",
       "      <td>0.0</td>\n",
       "      <td>37</td>\n",
       "      <td>7.0</td>\n",
       "      <td>C349</td>\n",
       "      <td>1</td>\n",
       "      <td>1</td>\n",
       "      <td>0</td>\n",
       "      <td>0</td>\n",
       "      <td>1</td>\n",
       "      <td>0</td>\n",
       "      <td>0</td>\n",
       "      <td>0</td>\n",
       "    </tr>\n",
       "    <tr>\n",
       "      <th>22</th>\n",
       "      <td>0.0</td>\n",
       "      <td>38</td>\n",
       "      <td>7.0</td>\n",
       "      <td>C349</td>\n",
       "      <td>1</td>\n",
       "      <td>1</td>\n",
       "      <td>0</td>\n",
       "      <td>0</td>\n",
       "      <td>1</td>\n",
       "      <td>0</td>\n",
       "      <td>0</td>\n",
       "      <td>0</td>\n",
       "    </tr>\n",
       "    <tr>\n",
       "      <th>30</th>\n",
       "      <td>0.0</td>\n",
       "      <td>42</td>\n",
       "      <td>7.0</td>\n",
       "      <td>C349</td>\n",
       "      <td>1</td>\n",
       "      <td>1</td>\n",
       "      <td>0</td>\n",
       "      <td>0</td>\n",
       "      <td>0</td>\n",
       "      <td>0</td>\n",
       "      <td>0</td>\n",
       "      <td>1</td>\n",
       "    </tr>\n",
       "    <tr>\n",
       "      <th>35</th>\n",
       "      <td>0.0</td>\n",
       "      <td>39</td>\n",
       "      <td>7.0</td>\n",
       "      <td>C349</td>\n",
       "      <td>3</td>\n",
       "      <td>1</td>\n",
       "      <td>0</td>\n",
       "      <td>0</td>\n",
       "      <td>0</td>\n",
       "      <td>0</td>\n",
       "      <td>0</td>\n",
       "      <td>1</td>\n",
       "    </tr>\n",
       "    <tr>\n",
       "      <th>...</th>\n",
       "      <td>...</td>\n",
       "      <td>...</td>\n",
       "      <td>...</td>\n",
       "      <td>...</td>\n",
       "      <td>...</td>\n",
       "      <td>...</td>\n",
       "      <td>...</td>\n",
       "      <td>...</td>\n",
       "      <td>...</td>\n",
       "      <td>...</td>\n",
       "      <td>...</td>\n",
       "      <td>...</td>\n",
       "    </tr>\n",
       "    <tr>\n",
       "      <th>2452484</th>\n",
       "      <td>3.0</td>\n",
       "      <td>40</td>\n",
       "      <td>0.0</td>\n",
       "      <td>I251</td>\n",
       "      <td>1</td>\n",
       "      <td>0</td>\n",
       "      <td>1</td>\n",
       "      <td>0</td>\n",
       "      <td>0</td>\n",
       "      <td>0</td>\n",
       "      <td>1</td>\n",
       "      <td>0</td>\n",
       "    </tr>\n",
       "    <tr>\n",
       "      <th>2452486</th>\n",
       "      <td>9.0</td>\n",
       "      <td>44</td>\n",
       "      <td>0.0</td>\n",
       "      <td>I251</td>\n",
       "      <td>2</td>\n",
       "      <td>1</td>\n",
       "      <td>0</td>\n",
       "      <td>0</td>\n",
       "      <td>0</td>\n",
       "      <td>0</td>\n",
       "      <td>1</td>\n",
       "      <td>0</td>\n",
       "    </tr>\n",
       "    <tr>\n",
       "      <th>2452490</th>\n",
       "      <td>9.0</td>\n",
       "      <td>39</td>\n",
       "      <td>0.0</td>\n",
       "      <td>I251</td>\n",
       "      <td>2</td>\n",
       "      <td>0</td>\n",
       "      <td>1</td>\n",
       "      <td>0</td>\n",
       "      <td>0</td>\n",
       "      <td>0</td>\n",
       "      <td>1</td>\n",
       "      <td>0</td>\n",
       "    </tr>\n",
       "    <tr>\n",
       "      <th>2452499</th>\n",
       "      <td>9.0</td>\n",
       "      <td>42</td>\n",
       "      <td>0.0</td>\n",
       "      <td>I251</td>\n",
       "      <td>2</td>\n",
       "      <td>0</td>\n",
       "      <td>1</td>\n",
       "      <td>0</td>\n",
       "      <td>0</td>\n",
       "      <td>0</td>\n",
       "      <td>1</td>\n",
       "      <td>0</td>\n",
       "    </tr>\n",
       "    <tr>\n",
       "      <th>2452505</th>\n",
       "      <td>9.0</td>\n",
       "      <td>43</td>\n",
       "      <td>0.0</td>\n",
       "      <td>I251</td>\n",
       "      <td>1</td>\n",
       "      <td>1</td>\n",
       "      <td>0</td>\n",
       "      <td>0</td>\n",
       "      <td>0</td>\n",
       "      <td>0</td>\n",
       "      <td>1</td>\n",
       "      <td>0</td>\n",
       "    </tr>\n",
       "  </tbody>\n",
       "</table>\n",
       "<p>428947 rows × 12 columns</p>\n",
       "</div>"
      ],
      "text/plain": [
       "         education_2003_revision  age_recode_52  manner_of_death  \\\n",
       "4                            0.0             39              7.0   \n",
       "15                           0.0             37              7.0   \n",
       "22                           0.0             38              7.0   \n",
       "30                           0.0             42              7.0   \n",
       "35                           0.0             39              7.0   \n",
       "...                          ...            ...              ...   \n",
       "2452484                      3.0             40              0.0   \n",
       "2452486                      9.0             44              0.0   \n",
       "2452490                      9.0             39              0.0   \n",
       "2452499                      9.0             42              0.0   \n",
       "2452505                      9.0             43              0.0   \n",
       "\n",
       "        icd_code_10th_revision  race  F  M  D  M  S  U  W  \n",
       "4                         C349     1  1  0  0  1  0  0  0  \n",
       "15                        C349     1  1  0  0  1  0  0  0  \n",
       "22                        C349     1  1  0  0  1  0  0  0  \n",
       "30                        C349     1  1  0  0  0  0  0  1  \n",
       "35                        C349     3  1  0  0  0  0  0  1  \n",
       "...                        ...   ... .. .. .. .. .. .. ..  \n",
       "2452484                   I251     1  0  1  0  0  0  1  0  \n",
       "2452486                   I251     2  1  0  0  0  0  1  0  \n",
       "2452490                   I251     2  0  1  0  0  0  1  0  \n",
       "2452499                   I251     2  0  1  0  0  0  1  0  \n",
       "2452505                   I251     1  1  0  0  0  0  1  0  \n",
       "\n",
       "[428947 rows x 12 columns]"
      ]
     },
     "execution_count": 54,
     "metadata": {},
     "output_type": "execute_result"
    }
   ],
   "source": [
    "data # data with those three conditions\n",
    "\n"
   ]
  },
  {
   "cell_type": "code",
   "execution_count": 33,
   "metadata": {},
   "outputs": [],
   "source": [
    "# function filling 1's in the ICD_CODE\n",
    "\n",
    "#target = 'I251' # change this variable and execute this code to fill with 1's another variable\n",
    "#positions = data[data['icd_code_10th_revision'] == target].index.values\n",
    "\n"
   ]
  },
  {
   "cell_type": "code",
   "execution_count": 34,
   "metadata": {},
   "outputs": [
    {
     "data": {
      "text/plain": [
       "array([     76,     111,     118, ..., 2452490, 2452499, 2452505])"
      ]
     },
     "execution_count": 34,
     "metadata": {},
     "output_type": "execute_result"
    }
   ],
   "source": [
    "#positions\n"
   ]
  },
  {
   "cell_type": "code",
   "execution_count": 35,
   "metadata": {
    "scrolled": true
   },
   "outputs": [
    {
     "name": "stderr",
     "output_type": "stream",
     "text": [
      "<ipython-input-35-76a6e6af8381>:1: SettingWithCopyWarning: \n",
      "A value is trying to be set on a copy of a slice from a DataFrame\n",
      "\n",
      "See the caveats in the documentation: https://pandas.pydata.org/pandas-docs/stable/user_guide/indexing.html#returning-a-view-versus-a-copy\n",
      "  data.icd_code_10th_revision[positions] = 1\n"
     ]
    }
   ],
   "source": [
    "#data.icd_code_10th_revision[positions] = 1\n",
    "\n"
   ]
  },
  {
   "cell_type": "code",
   "execution_count": 36,
   "metadata": {},
   "outputs": [
    {
     "ename": "KeyboardInterrupt",
     "evalue": "",
     "output_type": "error",
     "traceback": [
      "\u001b[0;31m---------------------------------------------------------------------------\u001b[0m",
      "\u001b[0;31mKeyboardInterrupt\u001b[0m                         Traceback (most recent call last)",
      "\u001b[0;32m<ipython-input-36-00299335e9df>\u001b[0m in \u001b[0;36m<module>\u001b[0;34m\u001b[0m\n\u001b[1;32m      5\u001b[0m \u001b[0;32mfor\u001b[0m \u001b[0mi\u001b[0m \u001b[0;32min\u001b[0m \u001b[0mrange\u001b[0m\u001b[0;34m(\u001b[0m\u001b[0mlen\u001b[0m\u001b[0;34m(\u001b[0m\u001b[0mdata\u001b[0m\u001b[0;34m.\u001b[0m\u001b[0mindex\u001b[0m\u001b[0;34m.\u001b[0m\u001b[0mvalues\u001b[0m\u001b[0;34m)\u001b[0m\u001b[0;34m)\u001b[0m\u001b[0;34m:\u001b[0m\u001b[0;34m\u001b[0m\u001b[0;34m\u001b[0m\u001b[0m\n\u001b[1;32m      6\u001b[0m     \u001b[0;32mif\u001b[0m \u001b[0mi\u001b[0m \u001b[0;32mnot\u001b[0m \u001b[0;32min\u001b[0m \u001b[0mpositions\u001b[0m\u001b[0;34m:\u001b[0m\u001b[0;34m\u001b[0m\u001b[0;34m\u001b[0m\u001b[0m\n\u001b[0;32m----> 7\u001b[0;31m         \u001b[0mpositions_c\u001b[0m\u001b[0;34m.\u001b[0m\u001b[0mappend\u001b[0m\u001b[0;34m(\u001b[0m\u001b[0mi\u001b[0m\u001b[0;34m)\u001b[0m\u001b[0;34m\u001b[0m\u001b[0;34m\u001b[0m\u001b[0m\n\u001b[0m\u001b[1;32m      8\u001b[0m \u001b[0;34m\u001b[0m\u001b[0m\n",
      "\u001b[0;31mKeyboardInterrupt\u001b[0m: "
     ]
    }
   ],
   "source": [
    "# Complement list (positions with 0's)\n",
    "\n",
    "#positions_c = []\n",
    "\n",
    "#for i in range(len(data.index.values)):\n",
    "#    if i not in positions:\n",
    "#        positions_c.append(i)\n",
    "    "
   ]
  },
  {
   "cell_type": "code",
   "execution_count": null,
   "metadata": {
    "scrolled": true
   },
   "outputs": [],
   "source": [
    "#data.icd_code_10th_revision[positions_c] = 0\n",
    "\n"
   ]
  },
  {
   "cell_type": "code",
   "execution_count": null,
   "metadata": {},
   "outputs": [],
   "source": [
    "data\n",
    "\n",
    "\n"
   ]
  },
  {
   "cell_type": "code",
   "execution_count": null,
   "metadata": {},
   "outputs": [],
   "source": [
    "len(data.index.values) # The size is big enough, we could use neural networks\n",
    "\n",
    "# Pros -> predictions will be better\n",
    "# Cons -> Training a neural network is computationally 'expensive'"
   ]
  },
  {
   "cell_type": "code",
   "execution_count": null,
   "metadata": {
    "scrolled": true
   },
   "outputs": [],
   "source": [
    "data\n"
   ]
  }
 ],
 "metadata": {
  "kernelspec": {
   "display_name": "Python 3",
   "language": "python",
   "name": "python3"
  },
  "language_info": {
   "codemirror_mode": {
    "name": "ipython",
    "version": 3
   },
   "file_extension": ".py",
   "mimetype": "text/x-python",
   "name": "python",
   "nbconvert_exporter": "python",
   "pygments_lexer": "ipython3",
   "version": "3.8.5"
  }
 },
 "nbformat": 4,
 "nbformat_minor": 4
}
